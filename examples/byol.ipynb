{
 "cells": [
  {
   "cell_type": "markdown",
   "metadata": {},
   "source": [
    "Preliminary"
   ]
  },
  {
   "cell_type": "code",
   "execution_count": null,
   "metadata": {},
   "outputs": [],
   "source": [
    "import sys\n",
    "import torch\n",
    "\n",
    "sys.path.append(\"..\")\n",
    "\n",
    "from sslearn.archs import ResNet\n",
    "from sslearn.models.pretraining import BYOL\n",
    "from sslearn.models.finetuning import Classifier\n",
    "from sslearn.training.validators import TopKNN, Accuracy\n",
    "from sslearn.training.schedulers import CosineAnnealingLinearWarmup\n",
    "from sslearn.training import Trainer\n",
    "from utils import load_cifar10, plot_results\n",
    "\n",
    "device = \"cuda\" if torch.cuda.is_available() else \"cpu\"\n",
    "data_root = \"static/datasets\"\n",
    "save_path = \"weights\"\n",
    "plot_path = \"static/plots\""
   ]
  },
  {
   "cell_type": "markdown",
   "metadata": {},
   "source": [
    "Encoder definition"
   ]
  },
  {
   "cell_type": "code",
   "execution_count": null,
   "metadata": {},
   "outputs": [],
   "source": [
    "encoder = ResNet(channels_in=3, model_name=\"resnet-18\", cifar10=True)"
   ]
  },
  {
   "cell_type": "markdown",
   "metadata": {},
   "source": [
    "Pretraining"
   ]
  },
  {
   "cell_type": "code",
   "execution_count": null,
   "metadata": {},
   "outputs": [],
   "source": [
    "def pretrain(encoder):\n",
    "\n",
    "    dataloaders = {\n",
    "        \"train\" : load_cifar10(data_root, train=True, batch_size=512, shuffle=True),\n",
    "        \"valid\" : load_cifar10(data_root, train=False, batch_size=1024),\n",
    "        \"index\" : load_cifar10(data_root, train=True, batch_size=1024),\n",
    "    }\n",
    "\n",
    "    epochs = 100\n",
    "    total_iters = epochs * len(dataloaders[\"train\"])\n",
    "    warmup_steps = 10 * len(dataloaders[\"train\"])\n",
    "\n",
    "    model = BYOL(encoder, total_iters=total_iters, hidden_dim=2048, \n",
    "                 head_dim=256, decay_base=0.99)\n",
    "\n",
    "    validator = TopKNN(dataloaders, device=device)\n",
    "    optim = torch.optim.Adam(model.parameters(), lr=3e-4, weight_decay=1e-6)\n",
    "    scheduler = CosineAnnealingLinearWarmup(optim, warmup_steps, total_iters, min_lr=3e-7)\n",
    "\n",
    "    trainer = Trainer(optim, scheduler, validator)\n",
    "    losses, valid_metrics = trainer.train(model, dataloaders[\"train\"], epochs, save_path, device=device)\n",
    "\n",
    "    plot_results(losses, epochs, title=\"Pretraining\", y_str=\"Loss\", path=plot_path)\n",
    "    plot_results(valid_metrics, epochs, title=\"Pretraining validation\", \n",
    "                 y_str=validator.metric_str.capitalize(), color=\"orange\", path=plot_path)"
   ]
  },
  {
   "cell_type": "code",
   "execution_count": null,
   "metadata": {},
   "outputs": [],
   "source": [
    "pretrain(encoder)"
   ]
  },
  {
   "cell_type": "markdown",
   "metadata": {},
   "source": [
    "Finetuning"
   ]
  },
  {
   "cell_type": "code",
   "execution_count": null,
   "metadata": {},
   "outputs": [],
   "source": [
    "def finetune(encoder):\n",
    "    \n",
    "    model = Classifier(encoder, num_classes=10)\n",
    "\n",
    "    dataloaders = {\n",
    "        \"train\" : load_cifar10(data_root, train=True, batch_size=512, shuffle=True),\n",
    "        \"valid\" : load_cifar10(data_root, train=False, batch_size=1024),\n",
    "    }\n",
    "\n",
    "    epochs = 50\n",
    "    total_iters = epochs * len(dataloaders[\"train\"])\n",
    "    warmup_steps = 5 * len(dataloaders[\"train\"])\n",
    "\n",
    "    validator = Accuracy(dataloaders, device=device)\n",
    "    optim = torch.optim.SGD(model.parameters(), lr=1e-4, weight_decay=1e-4, momentum=0.9)\n",
    "    scheduler = CosineAnnealingLinearWarmup(optim, warmup_steps, total_iters, min_lr=1e-7)\n",
    "\n",
    "    trainer = Trainer(optim, scheduler, validator)\n",
    "    losses, valid_metrics = trainer.train(model, dataloaders[\"train\"], epochs, save_path)\n",
    "\n",
    "    plot_results(losses, epochs, title=\"Finetuning\", y_str=\"Loss\", path=plot_path)\n",
    "    plot_results(valid_metrics, epochs, title=\"Finetuning validation\", \n",
    "                 y_str=validator.metric_str.capitalize(), color=\"orange\", path=plot_path)"
   ]
  },
  {
   "cell_type": "code",
   "execution_count": null,
   "metadata": {},
   "outputs": [],
   "source": [
    "finetune(encoder)"
   ]
  }
 ],
 "metadata": {
  "kernelspec": {
   "display_name": "Python 3.8.8 ('base')",
   "language": "python",
   "name": "python3"
  },
  "language_info": {
   "codemirror_mode": {
    "name": "ipython",
    "version": 3
   },
   "file_extension": ".py",
   "mimetype": "text/x-python",
   "name": "python",
   "nbconvert_exporter": "python",
   "pygments_lexer": "ipython3",
   "version": "3.8.8"
  },
  "orig_nbformat": 4,
  "vscode": {
   "interpreter": {
    "hash": "c5c015fed36d193aeec672c1377e88f028398ccf1b78529c030ac6f629f6e454"
   }
  }
 },
 "nbformat": 4,
 "nbformat_minor": 2
}
