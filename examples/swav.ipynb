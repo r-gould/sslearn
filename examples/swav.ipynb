{
 "cells": [
  {
   "cell_type": "markdown",
   "metadata": {},
   "source": [
    "Preliminary"
   ]
  },
  {
   "cell_type": "code",
   "execution_count": 1,
   "metadata": {},
   "outputs": [
    {
     "name": "stderr",
     "output_type": "stream",
     "text": [
      "c:\\Users\\iwaju\\Anaconda3\\lib\\site-packages\\torchvision\\io\\image.py:13: UserWarning: Failed to load image Python extension: Could not find module 'C:\\Users\\iwaju\\Anaconda3\\Lib\\site-packages\\torchvision\\image.pyd' (or one of its dependencies). Try using the full path with constructor syntax.\n",
      "  warn(f\"Failed to load image Python extension: {e}\")\n"
     ]
    }
   ],
   "source": [
    "import sys\n",
    "import torch\n",
    "\n",
    "sys.path.append(\"..\")\n",
    "\n",
    "from sslearn.archs import ResNet\n",
    "from sslearn.models.pretraining import SwAV\n",
    "from sslearn.models.finetuning import Classifier\n",
    "from sslearn.training.validators import TopKNN, Accuracy\n",
    "from sslearn.training.schedulers import CosineAnnealingLinearWarmup\n",
    "from sslearn.training import Trainer\n",
    "from utils import load_cifar10, plot_results\n",
    "\n",
    "device = \"cuda\" if torch.cuda.is_available() else \"cpu\"\n",
    "data_root = \"static/datasets\"\n",
    "save_path = \"weights\"\n",
    "plot_path = \"static/plots\""
   ]
  },
  {
   "cell_type": "markdown",
   "metadata": {},
   "source": [
    "Encoder definition"
   ]
  },
  {
   "cell_type": "code",
   "execution_count": 2,
   "metadata": {},
   "outputs": [],
   "source": [
    "encoder = ResNet(channels_in=3, model_name=\"resnet-18\", cifar10=True)"
   ]
  },
  {
   "cell_type": "markdown",
   "metadata": {},
   "source": [
    "Pretraining"
   ]
  },
  {
   "cell_type": "code",
   "execution_count": 4,
   "metadata": {},
   "outputs": [
    {
     "name": "stdout",
     "output_type": "stream",
     "text": [
      "Files already downloaded and verified\n",
      "Files already downloaded and verified\n",
      "Files already downloaded and verified\n"
     ]
    }
   ],
   "source": [
    "def pretrain(encoder):\n",
    "    \n",
    "    model = SwAV(encoder, hidden_dim=2048, head_dim=128, temperature=0.1, num_prototypes=3000, freeze_iters=300,\n",
    "                 global_crop_info=[(2, 32)], local_crop_info=[])\n",
    "\n",
    "    dataloaders = {\n",
    "        \"train\" : load_cifar10(data_root, train=True, batch_size=512, shuffle=True),\n",
    "        \"valid\" : load_cifar10(data_root, train=False, batch_size=1024),\n",
    "        \"index\" : load_cifar10(data_root, train=True, batch_size=1024),\n",
    "    }\n",
    "\n",
    "    epochs = 50\n",
    "    warmup_steps = 5 * len(dataloaders[\"train\"])\n",
    "    total_iters = epochs * len(dataloaders[\"train\"])\n",
    "\n",
    "    validator = TopKNN(dataloaders, device=device)\n",
    "    optim = torch.optim.Adam(model.parameters(), lr=1e-3, weight_decay=1e-6)\n",
    "    scheduler = CosineAnnealingLinearWarmup(optim, warmup_steps, total_iters, min_lr=1e-6)\n",
    "\n",
    "    trainer = Trainer(optim, scheduler, validator)\n",
    "    losses, valid_metrics = trainer.train(model, dataloaders[\"train\"], epochs, save_path, device=device)\n",
    "\n",
    "    plot_results(losses, epochs, title=\"Pretraining\", y_str=\"Loss\", path=plot_path)\n",
    "    plot_results(valid_metrics, epochs, title=\"Pretraining validation\", \n",
    "                y_str=validator.metric_str.capitalize(), color=\"orange\", path=plot_path)"
   ]
  },
  {
   "cell_type": "code",
   "execution_count": null,
   "metadata": {},
   "outputs": [],
   "source": [
    "pretrain(encoder)"
   ]
  },
  {
   "cell_type": "markdown",
   "metadata": {},
   "source": [
    "Finetuning"
   ]
  },
  {
   "cell_type": "code",
   "execution_count": null,
   "metadata": {},
   "outputs": [],
   "source": [
    "def finetune(encoder):\n",
    "    \n",
    "    model = Classifier(encoder, hidden_dim=2048, num_classes=10)\n",
    "\n",
    "    dataloaders = {\n",
    "        \"train\" : load_cifar10(data_root, train=True, batch_size=1024, shuffle=True, device=device),\n",
    "        \"valid\" : load_cifar10(data_root, train=False, batch_size=1024),\n",
    "    }\n",
    "\n",
    "    epochs = 50\n",
    "    total_iters = epochs * len(dataloaders[\"train\"])\n",
    "    \n",
    "    validator = Accuracy(dataloaders, device=device)\n",
    "    optim = torch.optim.Adam(model.parameters(), lr=1e-4, weight_decay=0)\n",
    "    scheduler = torch.optim.lr_scheduler.CosineAnnealingLR(optim, total_iters)\n",
    "\n",
    "    trainer = Trainer(optim, scheduler, validator)\n",
    "    losses, valid_metrics = trainer.train(model, dataloaders[\"train\"], epochs, save_path)\n",
    "\n",
    "    plot_results(losses, epochs, title=\"Finetuning\", y_str=\"Loss\", path=plot_path)\n",
    "    plot_results(valid_metrics, epochs, title=\"Finetuning validation\", \n",
    "                y_str=validator.metric_str.capitalize(), color=\"orange\", path=plot_path)"
   ]
  },
  {
   "cell_type": "code",
   "execution_count": null,
   "metadata": {},
   "outputs": [],
   "source": [
    "finetune(encoder)"
   ]
  }
 ],
 "metadata": {
  "kernelspec": {
   "display_name": "Python 3.8.8 ('base')",
   "language": "python",
   "name": "python3"
  },
  "language_info": {
   "codemirror_mode": {
    "name": "ipython",
    "version": 3
   },
   "file_extension": ".py",
   "mimetype": "text/x-python",
   "name": "python",
   "nbconvert_exporter": "python",
   "pygments_lexer": "ipython3",
   "version": "3.8.8"
  },
  "orig_nbformat": 4,
  "vscode": {
   "interpreter": {
    "hash": "c5c015fed36d193aeec672c1377e88f028398ccf1b78529c030ac6f629f6e454"
   }
  }
 },
 "nbformat": 4,
 "nbformat_minor": 2
}
